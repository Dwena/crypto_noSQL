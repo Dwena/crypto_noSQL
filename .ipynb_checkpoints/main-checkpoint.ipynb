{
 "cells": [
  {
   "cell_type": "code",
   "execution_count": 1,
   "metadata": {},
   "outputs": [
    {
     "ename": "ModuleNotFoundError",
     "evalue": "No module named 'config'",
     "output_type": "error",
     "traceback": [
      "\u001b[1;31m---------------------------------------------------------------------------\u001b[0m",
      "\u001b[1;31mModuleNotFoundError\u001b[0m                       Traceback (most recent call last)",
      "\u001b[1;32m~\\AppData\\Local\\Temp\\ipykernel_33424\\425225636.py\u001b[0m in \u001b[0;36m<module>\u001b[1;34m\u001b[0m\n\u001b[0;32m      4\u001b[0m \u001b[1;32mimport\u001b[0m \u001b[0mjson\u001b[0m\u001b[1;33m\u001b[0m\u001b[1;33m\u001b[0m\u001b[0m\n\u001b[0;32m      5\u001b[0m \u001b[1;32mimport\u001b[0m \u001b[0mpandas\u001b[0m \u001b[1;32mas\u001b[0m \u001b[0mpd\u001b[0m\u001b[1;33m\u001b[0m\u001b[1;33m\u001b[0m\u001b[0m\n\u001b[1;32m----> 6\u001b[1;33m \u001b[1;32mimport\u001b[0m \u001b[0mAPI\u001b[0m\u001b[1;33m.\u001b[0m\u001b[0mdb_connection\u001b[0m \u001b[1;32mas\u001b[0m \u001b[0mdatabase\u001b[0m\u001b[1;33m\u001b[0m\u001b[1;33m\u001b[0m\u001b[0m\n\u001b[0m",
      "\u001b[1;32m~\\Documents\\IPSSI\\Mastere\\DB noSql\\crypto_noSQL\\API\\db_connection.py\u001b[0m in \u001b[0;36m<module>\u001b[1;34m\u001b[0m\n\u001b[0;32m      1\u001b[0m \u001b[1;32mimport\u001b[0m \u001b[0mpymongo\u001b[0m\u001b[1;33m\u001b[0m\u001b[1;33m\u001b[0m\u001b[0m\n\u001b[1;32m----> 2\u001b[1;33m \u001b[1;32mimport\u001b[0m \u001b[0mconfig\u001b[0m \u001b[1;32mas\u001b[0m \u001b[0mcf\u001b[0m\u001b[1;33m\u001b[0m\u001b[1;33m\u001b[0m\u001b[0m\n\u001b[0m\u001b[0;32m      3\u001b[0m \u001b[1;33m\u001b[0m\u001b[0m\n\u001b[0;32m      4\u001b[0m \u001b[1;33m\u001b[0m\u001b[0m\n\u001b[0;32m      5\u001b[0m \u001b[1;32mclass\u001b[0m \u001b[0mDatabase\u001b[0m\u001b[1;33m(\u001b[0m\u001b[1;33m)\u001b[0m\u001b[1;33m:\u001b[0m\u001b[1;33m\u001b[0m\u001b[1;33m\u001b[0m\u001b[0m\n",
      "\u001b[1;31mModuleNotFoundError\u001b[0m: No module named 'config'"
     ]
    }
   ],
   "source": [
    "from pprint import pprint as pp\n",
    "import pymongo\n",
    "from pymongo import MongoClient\n",
    "import json\n",
    "import pandas as pd\n",
    "import API.db_connection as database"
   ]
  },
  {
   "cell_type": "code",
   "execution_count": null,
   "metadata": {},
   "outputs": [],
   "source": [
    "datab=database.Database()\n",
    "datab.get_collections()"
   ]
  },
  {
   "cell_type": "code",
   "execution_count": null,
   "metadata": {},
   "outputs": [],
   "source": []
  },
  {
   "cell_type": "code",
   "execution_count": 45,
   "metadata": {
    "scrolled": true
   },
   "outputs": [
    {
     "name": "stdout",
     "output_type": "stream",
     "text": [
      "   CurrencyCode                    CurrencyName\n",
      "0           AED     United Arab Emirates Dirham\n",
      "1           ARS                  Argentine Peso\n",
      "2           AUD               Australian Dollar\n",
      "3           BDT                Bangladeshi Taka\n",
      "4           BGN                   Bulgarian Lev\n",
      "..          ...                             ...\n",
      "79          VEF  Venezuelan Bolívar (2008-2018)\n",
      "80          VES              Venezuelan Bolívar\n",
      "81          VND                 Vietnamese Dong\n",
      "82          XOF                 CFA Franc BCEAO\n",
      "83          ZAR              South African Rand\n",
      "\n",
      "[84 rows x 2 columns]\n",
      "[{'CurrencyCode': 'AED', 'CurrencyName': 'United Arab Emirates Dirham'}, {'CurrencyCode': 'ARS', 'CurrencyName': 'Argentine Peso'}, {'CurrencyCode': 'AUD', 'CurrencyName': 'Australian Dollar'}, {'CurrencyCode': 'BDT', 'CurrencyName': 'Bangladeshi Taka'}, {'CurrencyCode': 'BGN', 'CurrencyName': 'Bulgarian Lev'}, {'CurrencyCode': 'BHD', 'CurrencyName': 'Bahraini Dinar'}, {'CurrencyCode': 'BND', 'CurrencyName': 'Brunei Dollar'}, {'CurrencyCode': 'BOB', 'CurrencyName': 'Bolivian Boliviano'}, {'CurrencyCode': 'BRL', 'CurrencyName': 'Brazilian Real'}, {'CurrencyCode': 'BWP', 'CurrencyName': 'Botswanan Pula'}, {'CurrencyCode': 'BYN', 'CurrencyName': 'Belarusian Ruble'}, {'CurrencyCode': 'CAD', 'CurrencyName': 'Canadian Dollar'}, {'CurrencyCode': 'CHF', 'CurrencyName': 'Swiss Franc'}, {'CurrencyCode': 'CLP', 'CurrencyName': 'Chilean Peso'}, {'CurrencyCode': 'CNY', 'CurrencyName': 'Chinese Yuan'}, {'CurrencyCode': 'COP', 'CurrencyName': 'Colombian Peso'}, {'CurrencyCode': 'CRC', 'CurrencyName': 'Costa Rican Colón'}, {'CurrencyCode': 'CZK', 'CurrencyName': 'Czech Koruna'}, {'CurrencyCode': 'DKK', 'CurrencyName': 'Danish Krone'}, {'CurrencyCode': 'DOP', 'CurrencyName': 'Dominican Peso'}, {'CurrencyCode': 'DZD', 'CurrencyName': 'Algerian Dinar'}, {'CurrencyCode': 'EGP', 'CurrencyName': 'Egyptian Pound'}, {'CurrencyCode': 'EUR', 'CurrencyName': 'Euro'}, {'CurrencyCode': 'FJD', 'CurrencyName': 'Fijian Dollar'}, {'CurrencyCode': 'GBP', 'CurrencyName': 'British Pound Sterling'}, {'CurrencyCode': 'GEL', 'CurrencyName': 'Georgian Lari'}, {'CurrencyCode': 'GHS', 'CurrencyName': 'Ghanaian Cedi'}, {'CurrencyCode': 'HKD', 'CurrencyName': 'Hong Kong Dollar'}, {'CurrencyCode': 'HRK', 'CurrencyName': 'Croatian Kuna'}, {'CurrencyCode': 'HUF', 'CurrencyName': 'Hungarian Forint'}, {'CurrencyCode': 'IDR', 'CurrencyName': 'Indonesian Rupiah'}, {'CurrencyCode': 'ILS', 'CurrencyName': 'Israeli New Sheqel'}, {'CurrencyCode': 'INR', 'CurrencyName': 'Indian Rupee'}, {'CurrencyCode': 'IQD', 'CurrencyName': 'Iraqi Dinar'}, {'CurrencyCode': 'JOD', 'CurrencyName': 'Jordanian Dinar'}, {'CurrencyCode': 'JPY', 'CurrencyName': 'Japanese Yen'}, {'CurrencyCode': 'KES', 'CurrencyName': 'Kenyan Shilling'}, {'CurrencyCode': 'KRW', 'CurrencyName': 'South Korean Won'}, {'CurrencyCode': 'KWD', 'CurrencyName': 'Kuwaiti Dinar'}, {'CurrencyCode': 'KZT', 'CurrencyName': 'Kazakhstani Tenge'}, {'CurrencyCode': 'LBP', 'CurrencyName': 'Lebanese Pound'}, {'CurrencyCode': 'LKR', 'CurrencyName': 'Sri Lankan Rupee'}, {'CurrencyCode': 'LTL', 'CurrencyName': 'Lithuanian Litas'}, {'CurrencyCode': 'MAD', 'CurrencyName': 'Moroccan Dirham'}, {'CurrencyCode': 'MMK', 'CurrencyName': 'Myanma Kyat'}, {'CurrencyCode': 'MOP', 'CurrencyName': 'Macanese Pataca'}, {'CurrencyCode': 'MUR', 'CurrencyName': 'Mauritian Rupee'}, {'CurrencyCode': 'MXN', 'CurrencyName': 'Mexican Peso'}, {'CurrencyCode': 'MYR', 'CurrencyName': 'Malaysian Ringgit'}, {'CurrencyCode': 'NAD', 'CurrencyName': 'Namibian Dollar'}, {'CurrencyCode': 'NGN', 'CurrencyName': 'Nigerian Naira'}, {'CurrencyCode': 'NIO', 'CurrencyName': 'Nicaraguan Córdoba'}, {'CurrencyCode': 'NOK', 'CurrencyName': 'Norwegian Krone'}, {'CurrencyCode': 'NPR', 'CurrencyName': 'Nepalese Rupee'}, {'CurrencyCode': 'NZD', 'CurrencyName': 'New Zealand Dollar'}, {'CurrencyCode': 'OMR', 'CurrencyName': 'Omani Rial'}, {'CurrencyCode': 'PEN', 'CurrencyName': 'Peruvian Nuevo Sol'}, {'CurrencyCode': 'PHP', 'CurrencyName': 'Philippine Peso'}, {'CurrencyCode': 'PKR', 'CurrencyName': 'Pakistani Rupee'}, {'CurrencyCode': 'PLN', 'CurrencyName': 'Polish Zloty'}, {'CurrencyCode': 'PYG', 'CurrencyName': 'Paraguayan Guarani'}, {'CurrencyCode': 'QAR', 'CurrencyName': 'Qatari Rial'}, {'CurrencyCode': 'RON', 'CurrencyName': 'Romanian Leu'}, {'CurrencyCode': 'RSD', 'CurrencyName': 'Serbian Dinar'}, {'CurrencyCode': 'RUB', 'CurrencyName': 'Russian Ruble'}, {'CurrencyCode': 'SAR', 'CurrencyName': 'Saudi Riyal'}, {'CurrencyCode': 'SEK', 'CurrencyName': 'Swedish Krona'}, {'CurrencyCode': 'SGD', 'CurrencyName': 'Singapore Dollar'}, {'CurrencyCode': 'SVC', 'CurrencyName': 'Salvadoran Colón'}, {'CurrencyCode': 'THB', 'CurrencyName': 'Thai Baht'}, {'CurrencyCode': 'TND', 'CurrencyName': 'Tunisian Dinar'}, {'CurrencyCode': 'TRY', 'CurrencyName': 'Turkish Lira'}, {'CurrencyCode': 'TWD', 'CurrencyName': 'New Taiwan Dollar'}, {'CurrencyCode': 'TZS', 'CurrencyName': 'Tanzanian Shilling'}, {'CurrencyCode': 'UAH', 'CurrencyName': 'Ukrainian Hryvnia'}, {'CurrencyCode': 'UGX', 'CurrencyName': 'Ugandan Shilling'}, {'CurrencyCode': 'USD', 'CurrencyName': 'US Dollar'}, {'CurrencyCode': 'UYU', 'CurrencyName': 'Uruguayan Peso'}, {'CurrencyCode': 'UZS', 'CurrencyName': 'Uzbekistan Som'}, {'CurrencyCode': 'VEF', 'CurrencyName': 'Venezuelan Bolívar (2008-2018)'}, {'CurrencyCode': 'VES', 'CurrencyName': 'Venezuelan Bolívar'}, {'CurrencyCode': 'VND', 'CurrencyName': 'Vietnamese Dong'}, {'CurrencyCode': 'XOF', 'CurrencyName': 'CFA Franc BCEAO'}, {'CurrencyCode': 'ZAR', 'CurrencyName': 'South African Rand'}]\n"
     ]
    }
   ],
   "source": [
    "df_currency = pd.read_csv(\"currencies.csv\")\n",
    "print(df_currency)\n",
    "azert = df_currency.to_dict(orient=\"records\")\n",
    "print(azert)"
   ]
  },
  {
   "cell_type": "code",
   "execution_count": 44,
   "metadata": {},
   "outputs": [
    {
     "name": "stdout",
     "output_type": "stream",
     "text": [
      "{'United Arab Emirates Dirham': {'CurrencyCode': 'AED'}, 'Argentine Peso': {'CurrencyCode': 'ARS'}, 'Australian Dollar': {'CurrencyCode': 'AUD'}, 'Bangladeshi Taka': {'CurrencyCode': 'BDT'}, 'Bulgarian Lev': {'CurrencyCode': 'BGN'}, 'Bahraini Dinar': {'CurrencyCode': 'BHD'}, 'Brunei Dollar': {'CurrencyCode': 'BND'}, 'Bolivian Boliviano': {'CurrencyCode': 'BOB'}, 'Brazilian Real': {'CurrencyCode': 'BRL'}, 'Botswanan Pula': {'CurrencyCode': 'BWP'}, 'Belarusian Ruble': {'CurrencyCode': 'BYN'}, 'Canadian Dollar': {'CurrencyCode': 'CAD'}, 'Swiss Franc': {'CurrencyCode': 'CHF'}, 'Chilean Peso': {'CurrencyCode': 'CLP'}, 'Chinese Yuan': {'CurrencyCode': 'CNY'}, 'Colombian Peso': {'CurrencyCode': 'COP'}, 'Costa Rican Colón': {'CurrencyCode': 'CRC'}, 'Czech Koruna': {'CurrencyCode': 'CZK'}, 'Danish Krone': {'CurrencyCode': 'DKK'}, 'Dominican Peso': {'CurrencyCode': 'DOP'}, 'Algerian Dinar': {'CurrencyCode': 'DZD'}, 'Egyptian Pound': {'CurrencyCode': 'EGP'}, 'Euro': {'CurrencyCode': 'EUR'}, 'Fijian Dollar': {'CurrencyCode': 'FJD'}, 'British Pound Sterling': {'CurrencyCode': 'GBP'}, 'Georgian Lari': {'CurrencyCode': 'GEL'}, 'Ghanaian Cedi': {'CurrencyCode': 'GHS'}, 'Hong Kong Dollar': {'CurrencyCode': 'HKD'}, 'Croatian Kuna': {'CurrencyCode': 'HRK'}, 'Hungarian Forint': {'CurrencyCode': 'HUF'}, 'Indonesian Rupiah': {'CurrencyCode': 'IDR'}, 'Israeli New Sheqel': {'CurrencyCode': 'ILS'}, 'Indian Rupee': {'CurrencyCode': 'INR'}, 'Iraqi Dinar': {'CurrencyCode': 'IQD'}, 'Jordanian Dinar': {'CurrencyCode': 'JOD'}, 'Japanese Yen': {'CurrencyCode': 'JPY'}, 'Kenyan Shilling': {'CurrencyCode': 'KES'}, 'South Korean Won': {'CurrencyCode': 'KRW'}, 'Kuwaiti Dinar': {'CurrencyCode': 'KWD'}, 'Kazakhstani Tenge': {'CurrencyCode': 'KZT'}, 'Lebanese Pound': {'CurrencyCode': 'LBP'}, 'Sri Lankan Rupee': {'CurrencyCode': 'LKR'}, 'Lithuanian Litas': {'CurrencyCode': 'LTL'}, 'Moroccan Dirham': {'CurrencyCode': 'MAD'}, 'Myanma Kyat': {'CurrencyCode': 'MMK'}, 'Macanese Pataca': {'CurrencyCode': 'MOP'}, 'Mauritian Rupee': {'CurrencyCode': 'MUR'}, 'Mexican Peso': {'CurrencyCode': 'MXN'}, 'Malaysian Ringgit': {'CurrencyCode': 'MYR'}, 'Namibian Dollar': {'CurrencyCode': 'NAD'}, 'Nigerian Naira': {'CurrencyCode': 'NGN'}, 'Nicaraguan Córdoba': {'CurrencyCode': 'NIO'}, 'Norwegian Krone': {'CurrencyCode': 'NOK'}, 'Nepalese Rupee': {'CurrencyCode': 'NPR'}, 'New Zealand Dollar': {'CurrencyCode': 'NZD'}, 'Omani Rial': {'CurrencyCode': 'OMR'}, 'Peruvian Nuevo Sol': {'CurrencyCode': 'PEN'}, 'Philippine Peso': {'CurrencyCode': 'PHP'}, 'Pakistani Rupee': {'CurrencyCode': 'PKR'}, 'Polish Zloty': {'CurrencyCode': 'PLN'}, 'Paraguayan Guarani': {'CurrencyCode': 'PYG'}, 'Qatari Rial': {'CurrencyCode': 'QAR'}, 'Romanian Leu': {'CurrencyCode': 'RON'}, 'Serbian Dinar': {'CurrencyCode': 'RSD'}, 'Russian Ruble': {'CurrencyCode': 'RUB'}, 'Saudi Riyal': {'CurrencyCode': 'SAR'}, 'Swedish Krona': {'CurrencyCode': 'SEK'}, 'Singapore Dollar': {'CurrencyCode': 'SGD'}, 'Salvadoran Colón': {'CurrencyCode': 'SVC'}, 'Thai Baht': {'CurrencyCode': 'THB'}, 'Tunisian Dinar': {'CurrencyCode': 'TND'}, 'Turkish Lira': {'CurrencyCode': 'TRY'}, 'New Taiwan Dollar': {'CurrencyCode': 'TWD'}, 'Tanzanian Shilling': {'CurrencyCode': 'TZS'}, 'Ukrainian Hryvnia': {'CurrencyCode': 'UAH'}, 'Ugandan Shilling': {'CurrencyCode': 'UGX'}, 'US Dollar': {'CurrencyCode': 'USD'}, 'Uruguayan Peso': {'CurrencyCode': 'UYU'}, 'Uzbekistan Som': {'CurrencyCode': 'UZS'}, 'Venezuelan Bolívar (2008-2018)': {'CurrencyCode': 'VEF'}, 'Venezuelan Bolívar': {'CurrencyCode': 'VES'}, 'Vietnamese Dong': {'CurrencyCode': 'VND'}, 'CFA Franc BCEAO': {'CurrencyCode': 'XOF'}, 'South African Rand': {'CurrencyCode': 'ZAR'}}\n"
     ]
    }
   ],
   "source": [
    "currencies = df_currency.set_index('CurrencyName').T.to_dict('dict')\n",
    "# df = pd.DataFrame(currencies)\n",
    "print(currencies)\n",
    "# list_currency = currencies.items()"
   ]
  },
  {
   "cell_type": "code",
   "execution_count": null,
   "metadata": {},
   "outputs": [],
   "source": []
  }
 ],
 "metadata": {
  "kernelspec": {
   "display_name": "Python 3 (ipykernel)",
   "language": "python",
   "name": "python3"
  },
  "language_info": {
   "codemirror_mode": {
    "name": "ipython",
    "version": 3
   },
   "file_extension": ".py",
   "mimetype": "text/x-python",
   "name": "python",
   "nbconvert_exporter": "python",
   "pygments_lexer": "ipython3",
   "version": "3.9.13"
  },
  "vscode": {
   "interpreter": {
    "hash": "81bcb335fdf7f134155df8170a9ce5943317212bfd8ade427e596a0e65a9628e"
   }
  }
 },
 "nbformat": 4,
 "nbformat_minor": 1
}
